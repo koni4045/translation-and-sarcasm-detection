{
 "cells": [
  {
   "cell_type": "code",
   "execution_count": 3,
   "id": "6d354f65",
   "metadata": {},
   "outputs": [
    {
     "name": "stdout",
     "output_type": "stream",
     "text": [
      "Requirement already satisfied: transformers[sentencepiece] in /Users/konishbharathrajjonnalagadda/anaconda3/lib/python3.11/site-packages (4.35.2)\n",
      "Requirement already satisfied: filelock in /Users/konishbharathrajjonnalagadda/anaconda3/lib/python3.11/site-packages (from transformers[sentencepiece]) (3.9.0)\n",
      "Requirement already satisfied: huggingface-hub<1.0,>=0.16.4 in /Users/konishbharathrajjonnalagadda/anaconda3/lib/python3.11/site-packages (from transformers[sentencepiece]) (0.19.4)\n",
      "Requirement already satisfied: numpy>=1.17 in /Users/konishbharathrajjonnalagadda/anaconda3/lib/python3.11/site-packages (from transformers[sentencepiece]) (1.26.2)\n",
      "Requirement already satisfied: packaging>=20.0 in /Users/konishbharathrajjonnalagadda/anaconda3/lib/python3.11/site-packages (from transformers[sentencepiece]) (23.0)\n",
      "Requirement already satisfied: pyyaml>=5.1 in /Users/konishbharathrajjonnalagadda/anaconda3/lib/python3.11/site-packages (from transformers[sentencepiece]) (6.0)\n",
      "Requirement already satisfied: regex!=2019.12.17 in /Users/konishbharathrajjonnalagadda/anaconda3/lib/python3.11/site-packages (from transformers[sentencepiece]) (2022.7.9)\n",
      "Requirement already satisfied: requests in /Users/konishbharathrajjonnalagadda/anaconda3/lib/python3.11/site-packages (from transformers[sentencepiece]) (2.29.0)\n",
      "Requirement already satisfied: tokenizers<0.19,>=0.14 in /Users/konishbharathrajjonnalagadda/anaconda3/lib/python3.11/site-packages (from transformers[sentencepiece]) (0.15.0)\n",
      "Requirement already satisfied: safetensors>=0.3.1 in /Users/konishbharathrajjonnalagadda/anaconda3/lib/python3.11/site-packages (from transformers[sentencepiece]) (0.4.0)\n",
      "Requirement already satisfied: tqdm>=4.27 in /Users/konishbharathrajjonnalagadda/anaconda3/lib/python3.11/site-packages (from transformers[sentencepiece]) (4.65.0)\n",
      "Collecting sentencepiece!=0.1.92,>=0.1.91 (from transformers[sentencepiece])\n",
      "  Downloading sentencepiece-0.1.99-cp311-cp311-macosx_11_0_arm64.whl (1.2 MB)\n",
      "\u001b[2K     \u001b[90m━━━━━━━━━━━━━━━━━━━━━━━━━━━━━━━━━━━━━━━━\u001b[0m \u001b[32m1.2/1.2 MB\u001b[0m \u001b[31m8.5 MB/s\u001b[0m eta \u001b[36m0:00:00\u001b[0m00:01\u001b[0m00:01\u001b[0m\n",
      "\u001b[?25hRequirement already satisfied: protobuf in /Users/konishbharathrajjonnalagadda/anaconda3/lib/python3.11/site-packages (from transformers[sentencepiece]) (4.24.4)\n",
      "Requirement already satisfied: fsspec>=2023.5.0 in /Users/konishbharathrajjonnalagadda/anaconda3/lib/python3.11/site-packages (from huggingface-hub<1.0,>=0.16.4->transformers[sentencepiece]) (2023.10.0)\n",
      "Requirement already satisfied: typing-extensions>=3.7.4.3 in /Users/konishbharathrajjonnalagadda/anaconda3/lib/python3.11/site-packages (from huggingface-hub<1.0,>=0.16.4->transformers[sentencepiece]) (4.6.3)\n",
      "Requirement already satisfied: charset-normalizer<4,>=2 in /Users/konishbharathrajjonnalagadda/anaconda3/lib/python3.11/site-packages (from requests->transformers[sentencepiece]) (2.0.4)\n",
      "Requirement already satisfied: idna<4,>=2.5 in /Users/konishbharathrajjonnalagadda/anaconda3/lib/python3.11/site-packages (from requests->transformers[sentencepiece]) (3.4)\n",
      "Requirement already satisfied: urllib3<1.27,>=1.21.1 in /Users/konishbharathrajjonnalagadda/anaconda3/lib/python3.11/site-packages (from requests->transformers[sentencepiece]) (1.26.16)\n",
      "Requirement already satisfied: certifi>=2017.4.17 in /Users/konishbharathrajjonnalagadda/anaconda3/lib/python3.11/site-packages (from requests->transformers[sentencepiece]) (2023.5.7)\n",
      "Installing collected packages: sentencepiece\n",
      "Successfully installed sentencepiece-0.1.99\n"
     ]
    }
   ],
   "source": [
    "!pip install 'transformers[sentencepiece]'"
   ]
  },
  {
   "cell_type": "code",
   "execution_count": 4,
   "id": "2f76bb87",
   "metadata": {},
   "outputs": [],
   "source": [
    "import warnings\n",
    "warnings.filterwarnings(\"ignore\")"
   ]
  },
  {
   "cell_type": "code",
   "execution_count": 5,
   "id": "5d872598",
   "metadata": {},
   "outputs": [
    {
     "data": {
      "application/vnd.jupyter.widget-view+json": {
       "model_id": "c41dc7be124d4d7eb21f598ba07fa778",
       "version_major": 2,
       "version_minor": 0
      },
      "text/plain": [
       "config.json:   0%|          | 0.00/1.42k [00:00<?, ?B/s]"
      ]
     },
     "metadata": {},
     "output_type": "display_data"
    },
    {
     "data": {
      "application/vnd.jupyter.widget-view+json": {
       "model_id": "a6772390775740e49905b9643ed5828f",
       "version_major": 2,
       "version_minor": 0
      },
      "text/plain": [
       "pytorch_model.bin:   0%|          | 0.00/301M [00:00<?, ?B/s]"
      ]
     },
     "metadata": {},
     "output_type": "display_data"
    },
    {
     "data": {
      "application/vnd.jupyter.widget-view+json": {
       "model_id": "423d23aa57ce4ee7aa22fc4406428eac",
       "version_major": 2,
       "version_minor": 0
      },
      "text/plain": [
       "generation_config.json:   0%|          | 0.00/293 [00:00<?, ?B/s]"
      ]
     },
     "metadata": {},
     "output_type": "display_data"
    },
    {
     "data": {
      "application/vnd.jupyter.widget-view+json": {
       "model_id": "f72e4accd48647ff992d803876d4541e",
       "version_major": 2,
       "version_minor": 0
      },
      "text/plain": [
       "tokenizer_config.json:   0%|          | 0.00/42.0 [00:00<?, ?B/s]"
      ]
     },
     "metadata": {},
     "output_type": "display_data"
    },
    {
     "data": {
      "application/vnd.jupyter.widget-view+json": {
       "model_id": "39a15edcd6134d19981fe55da12b7540",
       "version_major": 2,
       "version_minor": 0
      },
      "text/plain": [
       "source.spm:   0%|          | 0.00/778k [00:00<?, ?B/s]"
      ]
     },
     "metadata": {},
     "output_type": "display_data"
    },
    {
     "data": {
      "application/vnd.jupyter.widget-view+json": {
       "model_id": "0ccbbaf730d149388fd7277468730080",
       "version_major": 2,
       "version_minor": 0
      },
      "text/plain": [
       "target.spm:   0%|          | 0.00/802k [00:00<?, ?B/s]"
      ]
     },
     "metadata": {},
     "output_type": "display_data"
    },
    {
     "data": {
      "application/vnd.jupyter.widget-view+json": {
       "model_id": "dd94c5a842a14d1c901e727fc8192303",
       "version_major": 2,
       "version_minor": 0
      },
      "text/plain": [
       "vocab.json:   0%|          | 0.00/1.34M [00:00<?, ?B/s]"
      ]
     },
     "metadata": {},
     "output_type": "display_data"
    }
   ],
   "source": [
    "import sentencepiece\n",
    "from transformers import pipeline\n",
    "pipe = pipeline(\"translation\", model=\"Helsinki-NLP/opus-mt-en-fr\")"
   ]
  },
  {
   "cell_type": "code",
   "execution_count": 6,
   "id": "fc78db1e",
   "metadata": {},
   "outputs": [],
   "source": [
    "from transformers import AutoTokenizer, AutoModelForSeq2SeqLM\n",
    "tokenizer = AutoTokenizer.from_pretrained(\"Helsinki-NLP/opus-mt-en-fr\")\n",
    "model = AutoModelForSeq2SeqLM.from_pretrained(\"Helsinki-NLP/opus-mt-en-fr\")"
   ]
  },
  {
   "cell_type": "code",
   "execution_count": 7,
   "id": "35001351",
   "metadata": {},
   "outputs": [
    {
     "name": "stdout",
     "output_type": "stream",
     "text": [
      "Requirement already satisfied: transformers in /Users/konishbharathrajjonnalagadda/anaconda3/lib/python3.11/site-packages (4.35.2)\n",
      "Requirement already satisfied: torch in /Users/konishbharathrajjonnalagadda/anaconda3/lib/python3.11/site-packages (2.1.0)\n",
      "Requirement already satisfied: filelock in /Users/konishbharathrajjonnalagadda/anaconda3/lib/python3.11/site-packages (from transformers) (3.9.0)\n",
      "Requirement already satisfied: huggingface-hub<1.0,>=0.16.4 in /Users/konishbharathrajjonnalagadda/anaconda3/lib/python3.11/site-packages (from transformers) (0.19.4)\n",
      "Requirement already satisfied: numpy>=1.17 in /Users/konishbharathrajjonnalagadda/anaconda3/lib/python3.11/site-packages (from transformers) (1.26.2)\n",
      "Requirement already satisfied: packaging>=20.0 in /Users/konishbharathrajjonnalagadda/anaconda3/lib/python3.11/site-packages (from transformers) (23.0)\n",
      "Requirement already satisfied: pyyaml>=5.1 in /Users/konishbharathrajjonnalagadda/anaconda3/lib/python3.11/site-packages (from transformers) (6.0)\n",
      "Requirement already satisfied: regex!=2019.12.17 in /Users/konishbharathrajjonnalagadda/anaconda3/lib/python3.11/site-packages (from transformers) (2022.7.9)\n",
      "Requirement already satisfied: requests in /Users/konishbharathrajjonnalagadda/anaconda3/lib/python3.11/site-packages (from transformers) (2.29.0)\n",
      "Requirement already satisfied: tokenizers<0.19,>=0.14 in /Users/konishbharathrajjonnalagadda/anaconda3/lib/python3.11/site-packages (from transformers) (0.15.0)\n",
      "Requirement already satisfied: safetensors>=0.3.1 in /Users/konishbharathrajjonnalagadda/anaconda3/lib/python3.11/site-packages (from transformers) (0.4.0)\n",
      "Requirement already satisfied: tqdm>=4.27 in /Users/konishbharathrajjonnalagadda/anaconda3/lib/python3.11/site-packages (from transformers) (4.65.0)\n",
      "Requirement already satisfied: typing-extensions in /Users/konishbharathrajjonnalagadda/anaconda3/lib/python3.11/site-packages (from torch) (4.6.3)\n",
      "Requirement already satisfied: sympy in /Users/konishbharathrajjonnalagadda/anaconda3/lib/python3.11/site-packages (from torch) (1.11.1)\n",
      "Requirement already satisfied: networkx in /Users/konishbharathrajjonnalagadda/anaconda3/lib/python3.11/site-packages (from torch) (2.8.4)\n",
      "Requirement already satisfied: jinja2 in /Users/konishbharathrajjonnalagadda/anaconda3/lib/python3.11/site-packages (from torch) (3.1.2)\n",
      "Requirement already satisfied: fsspec in /Users/konishbharathrajjonnalagadda/anaconda3/lib/python3.11/site-packages (from torch) (2023.10.0)\n",
      "Requirement already satisfied: MarkupSafe>=2.0 in /Users/konishbharathrajjonnalagadda/anaconda3/lib/python3.11/site-packages (from jinja2->torch) (2.1.1)\n",
      "Requirement already satisfied: charset-normalizer<4,>=2 in /Users/konishbharathrajjonnalagadda/anaconda3/lib/python3.11/site-packages (from requests->transformers) (2.0.4)\n",
      "Requirement already satisfied: idna<4,>=2.5 in /Users/konishbharathrajjonnalagadda/anaconda3/lib/python3.11/site-packages (from requests->transformers) (3.4)\n",
      "Requirement already satisfied: urllib3<1.27,>=1.21.1 in /Users/konishbharathrajjonnalagadda/anaconda3/lib/python3.11/site-packages (from requests->transformers) (1.26.16)\n",
      "Requirement already satisfied: certifi>=2017.4.17 in /Users/konishbharathrajjonnalagadda/anaconda3/lib/python3.11/site-packages (from requests->transformers) (2023.5.7)\n",
      "Requirement already satisfied: mpmath>=0.19 in /Users/konishbharathrajjonnalagadda/anaconda3/lib/python3.11/site-packages (from sympy->torch) (1.2.1)\n"
     ]
    }
   ],
   "source": [
    "!pip install transformers torch"
   ]
  },
  {
   "cell_type": "code",
   "execution_count": 12,
   "id": "dcdc68a5",
   "metadata": {},
   "outputs": [],
   "source": [
    "import torch"
   ]
  },
  {
   "cell_type": "code",
   "execution_count": 16,
   "id": "3c9fcad4",
   "metadata": {},
   "outputs": [],
   "source": [
    "def model1(sentence):\n",
    "    tokenizer = AutoTokenizer.from_pretrained(\"Helsinki-NLP/opus-mt-en-fr\")\n",
    "    model = AutoModelForSeq2SeqLM.from_pretrained(\"Helsinki-NLP/opus-mt-en-fr\")\n",
    "\n",
    "      # Tokenize the sentences\n",
    "    encoded_english = tokenizer.prepare_seq2seq_batch(sentence, return_tensors=\"pt\")\n",
    "\n",
    "      # Perform translation\n",
    "    with torch.no_grad():\n",
    "        translations = model.generate(**encoded_english)\n",
    "\n",
    "      # Decode and display translations\n",
    "    decoded_translations = tokenizer.batch_decode(translations, skip_special_tokens=True)\n",
    "    for french_translation in decoded_translations:\n",
    "        print(f\"French: {french_translation}\\n\")"
   ]
  },
  {
   "cell_type": "code",
   "execution_count": 17,
   "id": "b1fd2678",
   "metadata": {},
   "outputs": [],
   "source": [
    "Sen = \"I Study in UNH. This is my third semester in University\""
   ]
  },
  {
   "cell_type": "code",
   "execution_count": 18,
   "id": "aa4e9406",
   "metadata": {},
   "outputs": [
    {
     "name": "stdout",
     "output_type": "stream",
     "text": [
      "French: J'étudie à l'UNH. C'est mon troisième semestre à l'Université\n",
      "\n"
     ]
    }
   ],
   "source": [
    "model1(Sen)"
   ]
  },
  {
   "cell_type": "code",
   "execution_count": 21,
   "id": "04c7e814",
   "metadata": {},
   "outputs": [],
   "source": [
    "def Model2(sentence):\n",
    "    tokenizer = AutoTokenizer.from_pretrained(\"Helsinki-NLP/opus-mt-en-de\")\n",
    "    model = AutoModelForSeq2SeqLM.from_pretrained(\"Helsinki-NLP/opus-mt-en-de\")\n",
    "\n",
    "  # Tokenize the sentences\n",
    "    encoded_english = tokenizer.prepare_seq2seq_batch(sentence, return_tensors=\"pt\")\n",
    "\n",
    "  # Perform translation\n",
    "    with torch.no_grad():\n",
    "        translations = model.generate(**encoded_english)\n",
    "\n",
    "  # Decode and display translations\n",
    "    decoded_translations = tokenizer.batch_decode(translations, skip_special_tokens=True)\n",
    "    for german_translation in decoded_translations:\n",
    "        print(f\"German: {german_translation}\\n\")\n"
   ]
  },
  {
   "cell_type": "code",
   "execution_count": 22,
   "id": "f5332918",
   "metadata": {},
   "outputs": [
    {
     "name": "stdout",
     "output_type": "stream",
     "text": [
      "German: Ich studiere in UNH. Dies ist mein drittes Semester in der Universität\n",
      "\n"
     ]
    }
   ],
   "source": [
    "Model2(Sen)"
   ]
  },
  {
   "cell_type": "code",
   "execution_count": 23,
   "id": "83efd85a",
   "metadata": {},
   "outputs": [],
   "source": [
    "def Model3(sentence):\n",
    "    tokenizer = AutoTokenizer.from_pretrained(\"Helsinki-NLP/opus-mt-en-es\")\n",
    "    model = AutoModelForSeq2SeqLM.from_pretrained(\"Helsinki-NLP/opus-mt-en-es\")\n",
    "\n",
    "  # Tokenize the sentences\n",
    "    encoded_french = tokenizer.prepare_seq2seq_batch(sentence, return_tensors=\"pt\")\n",
    "\n",
    "  # Perform translation\n",
    "    with torch.no_grad():\n",
    "        translations = model.generate(**encoded_french)\n",
    "\n",
    "  # Decode and display translations\n",
    "    decoded_translations = tokenizer.batch_decode(translations, skip_special_tokens=True)\n",
    "    for  spanish_translation in  decoded_translations:\n",
    "        print(f\"Spanish: {spanish_translation}\\n\")"
   ]
  },
  {
   "cell_type": "code",
   "execution_count": 24,
   "id": "8670f767",
   "metadata": {},
   "outputs": [
    {
     "data": {
      "application/vnd.jupyter.widget-view+json": {
       "model_id": "2dbd3568b5084642bfb0efdb574db576",
       "version_major": 2,
       "version_minor": 0
      },
      "text/plain": [
       "tokenizer_config.json:   0%|          | 0.00/44.0 [00:00<?, ?B/s]"
      ]
     },
     "metadata": {},
     "output_type": "display_data"
    },
    {
     "data": {
      "application/vnd.jupyter.widget-view+json": {
       "model_id": "5628e5ac562443d5a25678f49f4ab0d2",
       "version_major": 2,
       "version_minor": 0
      },
      "text/plain": [
       "config.json:   0%|          | 0.00/1.47k [00:00<?, ?B/s]"
      ]
     },
     "metadata": {},
     "output_type": "display_data"
    },
    {
     "data": {
      "application/vnd.jupyter.widget-view+json": {
       "model_id": "418cbcf48ae74f939f1ba9901a9c1246",
       "version_major": 2,
       "version_minor": 0
      },
      "text/plain": [
       "source.spm:   0%|          | 0.00/802k [00:00<?, ?B/s]"
      ]
     },
     "metadata": {},
     "output_type": "display_data"
    },
    {
     "data": {
      "application/vnd.jupyter.widget-view+json": {
       "model_id": "797507fa6b5f45a786ee9b3bce4b729c",
       "version_major": 2,
       "version_minor": 0
      },
      "text/plain": [
       "target.spm:   0%|          | 0.00/826k [00:00<?, ?B/s]"
      ]
     },
     "metadata": {},
     "output_type": "display_data"
    },
    {
     "data": {
      "application/vnd.jupyter.widget-view+json": {
       "model_id": "0df36b43a6a0477098ca864090ae25d2",
       "version_major": 2,
       "version_minor": 0
      },
      "text/plain": [
       "vocab.json:   0%|          | 0.00/1.59M [00:00<?, ?B/s]"
      ]
     },
     "metadata": {},
     "output_type": "display_data"
    },
    {
     "data": {
      "application/vnd.jupyter.widget-view+json": {
       "model_id": "922b504078204814876f93c6cbfc74bc",
       "version_major": 2,
       "version_minor": 0
      },
      "text/plain": [
       "pytorch_model.bin:   0%|          | 0.00/312M [00:00<?, ?B/s]"
      ]
     },
     "metadata": {},
     "output_type": "display_data"
    },
    {
     "data": {
      "application/vnd.jupyter.widget-view+json": {
       "model_id": "6cee9228664f44b18d18b0788b9a2d42",
       "version_major": 2,
       "version_minor": 0
      },
      "text/plain": [
       "generation_config.json:   0%|          | 0.00/293 [00:00<?, ?B/s]"
      ]
     },
     "metadata": {},
     "output_type": "display_data"
    },
    {
     "name": "stdout",
     "output_type": "stream",
     "text": [
      "Spanish: Estudio en la UNH. Este es mi tercer semestre en la Universidad\n",
      "\n"
     ]
    }
   ],
   "source": [
    "Model3(Sen)"
   ]
  },
  {
   "cell_type": "code",
   "execution_count": 25,
   "id": "8d085300",
   "metadata": {},
   "outputs": [],
   "source": [
    "import torch\n",
    "from transformers import BertTokenizer, BertForSequenceClassification,AdamW, get_linear_schedule_with_warmup"
   ]
  },
  {
   "cell_type": "code",
   "execution_count": 26,
   "id": "df69c03a",
   "metadata": {},
   "outputs": [],
   "source": [
    "save_path='/Users/konishbharathrajjonnalagadda/Desktop/UNH/NLP/final project/saved_models'"
   ]
  },
  {
   "cell_type": "code",
   "execution_count": 46,
   "id": "0cda8df7",
   "metadata": {},
   "outputs": [],
   "source": [
    "tokenizer = BertTokenizer.from_pretrained(\"bert-base-uncased\")"
   ]
  },
  {
   "cell_type": "code",
   "execution_count": 47,
   "id": "cb706256",
   "metadata": {},
   "outputs": [],
   "source": [
    "model = BertForSequenceClassification.from_pretrained(save_path)"
   ]
  },
  {
   "cell_type": "code",
   "execution_count": 54,
   "id": "b1d09ad0",
   "metadata": {},
   "outputs": [],
   "source": [
    "def predict_sarcasm(statement,model,tokenizer):\n",
    "    # Tokenize the statement\n",
    "    inputs = tokenizer(statement, truncation=True, padding=True, max_length=128, return_tensors=\"pt\")\n",
    "\n",
    "    # Make the prediction\n",
    "    with torch.no_grad():\n",
    "        outputs = model(**inputs)\n",
    "    \n",
    "    logits = outputs.logits\n",
    "    #predicted_label = torch.argmax(logits).item()\n",
    "    predicted_label=torch.nn.Softmax()(logits)\n",
    "\n",
    "    return predicted_label\n"
   ]
  },
  {
   "cell_type": "code",
   "execution_count": 55,
   "id": "c1a9b87b",
   "metadata": {},
   "outputs": [],
   "source": [
    "statement = \"Breaking News: World Shocked to Discover That Mondays Are, in Fact, Everyone's Favorite Day!\""
   ]
  },
  {
   "cell_type": "code",
   "execution_count": 56,
   "id": "76a31932",
   "metadata": {},
   "outputs": [
    {
     "data": {
      "text/plain": [
       "tensor([[0.2981, 0.7019]])"
      ]
     },
     "execution_count": 56,
     "metadata": {},
     "output_type": "execute_result"
    }
   ],
   "source": [
    "predict_sarcasm(statement,model,tokenizer)"
   ]
  },
  {
   "cell_type": "code",
   "execution_count": 59,
   "id": "4c754c84",
   "metadata": {},
   "outputs": [
    {
     "data": {
      "text/plain": [
       "array([[0.29809934, 0.70190066]], dtype=float32)"
      ]
     },
     "execution_count": 59,
     "metadata": {},
     "output_type": "execute_result"
    }
   ],
   "source": [
    "tensor_values = predict_sarcasm(statement,model,tokenizer)\n",
    "tensor_values = tensor_values.numpy()\n",
    "tensor_values"
   ]
  },
  {
   "cell_type": "code",
   "execution_count": 60,
   "id": "6fbf40c5",
   "metadata": {},
   "outputs": [
    {
     "data": {
      "image/png": "[encoded data removed]",
      "text/plain": [
       "<Figure size 640x480 with 1 Axes>"
      ]
     },
     "metadata": {},
     "output_type": "display_data"
    }
   ],
   "source": [
    "import numpy as np\n",
    "import matplotlib.pyplot as plt\n",
    "\n",
    "# Your NumPy array\n",
    "numpy_array = tensor_values\n",
    "\n",
    "# Extract the second element\n",
    "value_to_visualize = numpy_array[0, 1]\n",
    "\n",
    "# Create a vertical bar chart\n",
    "plt.bar([''], [value_to_visualize], color='blue')\n",
    "\n",
    "# Customize the plot\n",
    "plt.ylim(0, 1)  # Set the y-axis limit from 0 to 1\n",
    "plt.ylabel('sarcasm level')  # Label for the y-axis\n",
    "plt.title('sarcasm Meter')  # Title for the plot\n",
    "\n",
    "# Display the value on the bar\n",
    "plt.text(0, value_to_visualize, f'{value_to_visualize:.4f}', ha='center', color='black')\n",
    "\n",
    "# Show the plot\n",
    "plt.show()"
   ]
  },
  {
   "cell_type": "code",
   "execution_count": 76,
   "id": "30ba555d",
   "metadata": {},
   "outputs": [],
   "source": [
    "import numpy as np\n",
    "import matplotlib.pyplot as plt\n",
    "\n",
    "def sarcasm_meter(tensor_values):\n",
    "\n",
    "\n",
    "    # Your NumPy array\n",
    "    numpy_array = tensor_values\n",
    "\n",
    "    # Extract the second element\n",
    "    value_to_visualize = numpy_array[0, 1]\n",
    "\n",
    "    # Create a vertical bar chart\n",
    "    plt.bar([''], [value_to_visualize], color='blue')\n",
    "\n",
    "    # Customize the plot\n",
    "    plt.ylim(0, 1)  # Set the y-axis limit from 0 to 1\n",
    "    plt.ylabel('sarcasm level')  # Label for the y-axis\n",
    "    plt.title('sarcasm Meter')  # Title for the plot\n",
    "\n",
    "    # Display the value on the bar\n",
    "    plt.text(0, value_to_visualize, f'{value_to_visualize:.4f}', ha='center', color='black')\n",
    "\n",
    "    # Show the plot\n",
    "    plt.show()"
   ]
  },
  {
   "cell_type": "code",
   "execution_count": 89,
   "id": "4b4127b1",
   "metadata": {},
   "outputs": [],
   "source": [
    "def sentence_translation_and_sarcasm_detection(sentence):\n",
    "    model1(sentence)\n",
    "    Model2(sentence)\n",
    "    Model3(sentence)\n",
    "    \n",
    "    save_path='/Users/konishbharathrajjonnalagadda/Desktop/UNH/NLP/final project/saved_models'\n",
    "    tokenizer = BertTokenizer.from_pretrained(\"bert-base-uncased\")\n",
    "    model = BertForSequenceClassification.from_pretrained(save_path)\n",
    "    \n",
    "    tensor_values = predict_sarcasm(sentence,model,tokenizer)\n",
    "    tensor_values = tensor_values.numpy()\n",
    "    \n",
    "    sarcasm_meter(tensor_values)\n",
    "    return tensor_values\n",
    "    "
   ]
  },
  {
   "cell_type": "code",
   "execution_count": 92,
   "id": "960329a9",
   "metadata": {},
   "outputs": [],
   "source": [
    "sentence = \"popeye decries mideast bombings; 'dese bombinks is disgustipating,' says sailor man\""
   ]
  },
  {
   "cell_type": "code",
   "execution_count": 93,
   "id": "06fb4812",
   "metadata": {},
   "outputs": [
    {
     "name": "stdout",
     "output_type": "stream",
     "text": [
      "French: \"Les bombes du désert sont dégoûtantes,\" dit l'homme marin.\n",
      "\n",
      "German: Popeye decryes Mideast Bombardierungen; \"Dese bombinks ist ekelhaft\", sagt Matrose Mann\n",
      "\n",
      "Spanish: popeye decrece bombardeos en el medio oriente; \"los bombinks dese es repugnante\", dice el marinero\n",
      "\n"
     ]
    },
    {
     "data": {
      "image/png": "[encoded data removed]",
      "text/plain": [
       "<Figure size 640x480 with 1 Axes>"
      ]
     },
     "metadata": {},
     "output_type": "display_data"
    },
    {
     "data": {
      "text/plain": [
       "array([[0.00404085, 0.9959591 ]], dtype=float32)"
      ]
     },
     "execution_count": 93,
     "metadata": {},
     "output_type": "execute_result"
    }
   ],
   "source": [
    "sentence_translation_and_sarcasm_detection(sentence)"
   ]
  },
  {
   "cell_type": "code",
   "execution_count": null,
   "id": "7ca09571",
   "metadata": {},
   "outputs": [],
   "source": []
  }
 ],
 "metadata": {
  "kernelspec": {
   "display_name": "Python 3 (ipykernel)",
   "language": "python",
   "name": "python3"
  },
  "language_info": {
   "codemirror_mode": {
    "name": "ipython",
    "version": 3
   },
   "file_extension": ".py",
   "mimetype": "text/x-python",
   "name": "python",
   "nbconvert_exporter": "python",
   "pygments_lexer": "ipython3",
   "version": "3.11.3"
  }
 },
 "nbformat": 4,
 "nbformat_minor": 5
}
